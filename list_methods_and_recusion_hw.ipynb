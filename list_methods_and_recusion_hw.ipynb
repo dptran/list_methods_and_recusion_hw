{
 "cells": [
  {
   "cell_type": "code",
   "execution_count": 58,
   "id": "9c91708c",
   "metadata": {},
   "outputs": [
    {
     "data": {
      "text/plain": [
       "['Argentina', 'San Diego', 'Boston', 'New York']"
      ]
     },
     "execution_count": 58,
     "metadata": {},
     "output_type": "execute_result"
    }
   ],
   "source": [
    "# Exercise #1\n",
    "# Filter out all of the empty strings from the list below\n",
    "\n",
    "places = [' ', 'Argentina', '  ', 'San Diego', '', '   ', '', 'Boston', 'New York']\n",
    "# = [Argentina, San Diego, Boston, New York]\n",
    "\n",
    "new_list = []\n",
    "\n",
    "def fil(list):\n",
    "    for i in list:\n",
    "        if (i != '') and not  i.isspace():\n",
    "            new_list.append(i)\n",
    "            \n",
    "    return new_list\n",
    "\n",
    "fil(places)"
   ]
  },
  {
   "cell_type": "code",
   "execution_count": 25,
   "id": "c8ca5f46",
   "metadata": {},
   "outputs": [
    {
     "data": {
      "text/plain": [
       "['Victor aNisimov',\n",
       " 'Andrew P. Garfield',\n",
       " 'David HassELHOFF',\n",
       " 'Connor Milliken',\n",
       " 'Oprah wInfrey']"
      ]
     },
     "execution_count": 25,
     "metadata": {},
     "output_type": "execute_result"
    }
   ],
   "source": [
    "# Exercise #2\n",
    "# Write an anonymous function that sorts this list by the last name...\n",
    "# Hint: Use the \".sort()\" method and access the key\"\n",
    "\n",
    "# .sort(key=)\n",
    "authors = [\"Connor Milliken\", \"Victor aNisimov\", \"Andrew P. Garfield\", \"David HassELHOFF\", \"Oprah wInfrey\"]\n",
    "\n",
    "def sortSur(nameList):\n",
    "    \n",
    "    nameList.sort(key=lambda name: name.split()[-1].lower())\n",
    "    return nameList\n",
    "\n",
    "sortSur(authors)"
   ]
  },
  {
   "cell_type": "code",
   "execution_count": 77,
   "id": "ad4e33c9",
   "metadata": {},
   "outputs": [
    {
     "name": "stdout",
     "output_type": "stream",
     "text": [
      "[['Nassau', 89.6], ['Boston', 53.6], ['Los Angeles', 111.2], ['Miami', 84.2]]\n"
     ]
    }
   ],
   "source": [
    "# Exercise #3\n",
    "# Convert the list below from Celsius to Farhenheit, using the map function with a lambda...\n",
    "\n",
    "places = [('Nassau', 32), ('Boston', 12), ('Los Angeles', 44), ('Miami', 29)]\n",
    "\n",
    "def fahrenheit(T):\n",
    "    for i in T:\n",
    "        return i[1]\n",
    "\n",
    "fahrenheit = list(map(lambda item: [item[0], item[1]*(9/5)+32], places))\n",
    "\n",
    "print(fahrenheit)"
   ]
  },
  {
   "cell_type": "code",
   "execution_count": null,
   "id": "464db2ed",
   "metadata": {},
   "outputs": [],
   "source": [
    "# Exercise #4\n",
    "# Write a recursive function to perform the fibonacci sequence up to the number passed in.\n",
    "\n",
    "def fib(num):\n",
    "    for i in range(num):\n",
    "        print(f'{i+1}: {fib(i)}')\n",
    "        \n",
    "fib(10)"
   ]
  }
 ],
 "metadata": {
  "kernelspec": {
   "display_name": "Python 3",
   "language": "python",
   "name": "python3"
  },
  "language_info": {
   "codemirror_mode": {
    "name": "ipython",
    "version": 3
   },
   "file_extension": ".py",
   "mimetype": "text/x-python",
   "name": "python",
   "nbconvert_exporter": "python",
   "pygments_lexer": "ipython3",
   "version": "3.8.8"
  }
 },
 "nbformat": 4,
 "nbformat_minor": 5
}
